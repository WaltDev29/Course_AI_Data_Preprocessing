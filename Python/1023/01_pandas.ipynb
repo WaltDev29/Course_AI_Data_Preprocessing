{
 "cells": [
  {
   "cell_type": "markdown",
   "id": "7496e8db",
   "metadata": {},
   "source": [
    "# 데이터 준비"
   ]
  },
  {
   "cell_type": "code",
   "execution_count": 226,
   "id": "83cbc969",
   "metadata": {},
   "outputs": [],
   "source": [
    "import pandas as pd\n",
    "import numpy as np\n",
    "import matplotlib.pyplot as plt"
   ]
  },
  {
   "cell_type": "code",
   "execution_count": 227,
   "id": "cbe26d78",
   "metadata": {},
   "outputs": [],
   "source": [
    "df = pd.read_csv(\"../data/ch2_scores_em.csv\", index_col=\"student number\")\n",
    "\n",
    "scores = np.array(df[\"english\"][:10])\n",
    "scores_df = pd.DataFrame({\"scores\": scores}, index=pd.Index(['A','B','C','D','E','F','G','H','I','J'], name=\"student\"))"
   ]
  },
  {
   "cell_type": "markdown",
   "id": "fc082af7",
   "metadata": {},
   "source": [
    "# 데이터 표준화"
   ]
  },
  {
   "cell_type": "markdown",
   "id": "c13c1a36",
   "metadata": {},
   "source": [
    "## 데이터 표준화"
   ]
  },
  {
   "cell_type": "markdown",
   "id": "f18c3a83",
   "metadata": {},
   "source": [
    "(각 데이터 - 평균) / 표준편차"
   ]
  },
  {
   "cell_type": "code",
   "execution_count": 228,
   "id": "92495658",
   "metadata": {},
   "outputs": [
    {
     "name": "stdout",
     "output_type": "stream",
     "text": [
      "[-1.40182605  1.50965882  0.10783277 -1.50965882  0.21566555 -0.75482941\n",
      "  1.07832773 -0.64699664  1.07832773  0.32349832]\n"
     ]
    }
   ],
   "source": [
    "z = (scores - np.mean(scores)) / np.std(scores)\n",
    "print(z)"
   ]
  },
  {
   "cell_type": "markdown",
   "id": "a2ffe7fc",
   "metadata": {},
   "source": [
    "### 평균을 50, 표준편차를 10으로 정규화"
   ]
  },
  {
   "cell_type": "code",
   "execution_count": 229,
   "id": "2165cbfa",
   "metadata": {},
   "outputs": [],
   "source": [
    "z = (scores - np.mean(scores)) / np.std(scores) * 10 + 50"
   ]
  },
  {
   "cell_type": "code",
   "execution_count": 230,
   "id": "580288f8",
   "metadata": {},
   "outputs": [],
   "source": [
    "# 기존 DataFrame에 병합\n",
    "scores_df[\"deviation value\"] = z"
   ]
  },
  {
   "cell_type": "markdown",
   "id": "64a183ab",
   "metadata": {},
   "source": [
    "# 도수분포표"
   ]
  },
  {
   "cell_type": "markdown",
   "id": "851790e0",
   "metadata": {},
   "source": [
    "## 데이터 지표 확인"
   ]
  },
  {
   "cell_type": "code",
   "execution_count": 231,
   "id": "08746495",
   "metadata": {},
   "outputs": [
    {
     "name": "stdout",
     "output_type": "stream",
     "text": [
      "count    50.000000\n",
      "mean     58.380000\n",
      "std       9.799813\n",
      "min      37.000000\n",
      "25%      54.000000\n",
      "50%      57.500000\n",
      "75%      65.000000\n",
      "max      79.000000\n",
      "dtype: float64\n"
     ]
    }
   ],
   "source": [
    "english_scores = np.array(df[\"english\"])\n",
    "print(pd.Series(english_scores).describe())"
   ]
  },
  {
   "cell_type": "markdown",
   "id": "8218d3e8",
   "metadata": {},
   "source": [
    "## 도수분포도"
   ]
  },
  {
   "cell_type": "markdown",
   "id": "c72f8851",
   "metadata": {},
   "source": [
    "계급 : 0~100을 10 간격으로 나눌 때 0~10, 10~20 등의 구간을 지칭  \n",
    "도수 : 각 계급에 속한 데이터 수  \n",
    "계급폭 : 각 구간의 폭 (10)  \n",
    "계급 수 : 계급의 개수 (10)  \n",
    "bins : 계급 수  \n",
    "range : 데이터 범위  "
   ]
  },
  {
   "cell_type": "markdown",
   "id": "f6cc73d9",
   "metadata": {},
   "source": [
    "### 도수"
   ]
  },
  {
   "cell_type": "code",
   "execution_count": 232,
   "id": "403de3ab",
   "metadata": {},
   "outputs": [
    {
     "name": "stdout",
     "output_type": "stream",
     "text": [
      "25 [ 0  0  0  0  0  0  0  0  0  2  3  3  3  7  8  6 10  5  2  1  0  0  0  0\n",
      "  0]\n"
     ]
    }
   ],
   "source": [
    "width=4\n",
    "bins=25\n",
    "freq, _ = np.histogram(english_scores, bins=bins, range=(0,100))\n",
    "print(len(freq), freq)"
   ]
  },
  {
   "cell_type": "markdown",
   "id": "0ac5b429",
   "metadata": {},
   "source": [
    "### 계급과 병합"
   ]
  },
  {
   "cell_type": "code",
   "execution_count": 233,
   "id": "ff6bc54b",
   "metadata": {},
   "outputs": [
    {
     "name": "stdout",
     "output_type": "stream",
     "text": [
      "        frequency\n",
      "class            \n",
      "0~4             0\n",
      "4~8             0\n",
      "8~12            0\n",
      "12~16           0\n",
      "16~20           0\n",
      "20~24           0\n",
      "24~28           0\n",
      "28~32           0\n",
      "32~36           0\n",
      "36~40           2\n",
      "40~44           3\n",
      "44~48           3\n",
      "48~52           3\n",
      "52~56           7\n",
      "56~60           8\n",
      "60~64           6\n",
      "64~68          10\n",
      "68~72           5\n",
      "72~76           2\n",
      "76~80           1\n",
      "80~84           0\n",
      "84~88           0\n",
      "88~92           0\n",
      "92~96           0\n",
      "96~100          0\n"
     ]
    }
   ],
   "source": [
    "freq_class = [f\"{i}~{i+width}\" for i in range(0,100,width)]\n",
    "\n",
    "freq_dist_df = pd.DataFrame({\"frequency\": freq},\n",
    "\t\t\t\t\t\t\tindex=pd.Index(freq_class, name=\"class\"))\n",
    "print(freq_dist_df)"
   ]
  },
  {
   "cell_type": "markdown",
   "id": "c4224e83",
   "metadata": {},
   "source": [
    "### 계급값"
   ]
  },
  {
   "cell_type": "markdown",
   "id": "bbaf6ab2",
   "metadata": {},
   "source": [
    "각 계급을 대표하는 값. (각 계급의 중앙값을 사용)"
   ]
  },
  {
   "cell_type": "code",
   "execution_count": 234,
   "id": "e5516fab",
   "metadata": {},
   "outputs": [
    {
     "name": "stdout",
     "output_type": "stream",
     "text": [
      "class value : [2, 6, 10, 14, 18, 22, 26, 30, 34, 38, 42, 46, 50, 54, 58, 62, 66, 70, 74, 78, 82, 86, 90, 94, 98]\n"
     ]
    }
   ],
   "source": [
    "class_value = [(i+i+width)//2 for i in range(0,100,width)]\n",
    "print(\"class value :\",class_value)"
   ]
  },
  {
   "cell_type": "markdown",
   "id": "f045dd6b",
   "metadata": {},
   "source": [
    "### 상대도수"
   ]
  },
  {
   "cell_type": "markdown",
   "id": "c15a3954",
   "metadata": {},
   "source": [
    "전체 데이터에 대해서 해당 계급의 데이터가 차지하는 비율"
   ]
  },
  {
   "cell_type": "code",
   "execution_count": 235,
   "id": "86e9fd35",
   "metadata": {},
   "outputs": [
    {
     "name": "stdout",
     "output_type": "stream",
     "text": [
      "rel_freq : [0.   0.   0.   0.   0.   0.   0.   0.   0.   0.04 0.06 0.06 0.06 0.14\n",
      " 0.16 0.12 0.2  0.1  0.04 0.02 0.   0.   0.   0.   0.  ]\n"
     ]
    }
   ],
   "source": [
    "rel_freq = freq / freq.sum()\n",
    "print(\"rel_freq :\", rel_freq)"
   ]
  },
  {
   "cell_type": "markdown",
   "id": "8f9cf89a",
   "metadata": {},
   "source": [
    "### 누적상대도수"
   ]
  },
  {
   "cell_type": "markdown",
   "id": "64ed8d35",
   "metadata": {},
   "source": [
    "**해당 계급까지의 상대도수의 합**  \n",
    "누적되는 정도에 따라 해당 계급의 도수를 유추할 수 있음"
   ]
  },
  {
   "cell_type": "code",
   "execution_count": 236,
   "id": "4fad2c34",
   "metadata": {},
   "outputs": [
    {
     "name": "stdout",
     "output_type": "stream",
     "text": [
      "[0.   0.   0.   0.   0.   0.   0.   0.   0.   0.04 0.1  0.16 0.22 0.36\n",
      " 0.52 0.64 0.84 0.94 0.98 1.   1.   1.   1.   1.   1.  ]\n"
     ]
    },
    {
     "data": {
      "image/png": "[encoded data removed]",
      "text/plain": [
       "<Figure size 640x480 with 1 Axes>"
      ]
     },
     "metadata": {},
     "output_type": "display_data"
    }
   ],
   "source": [
    "cum_rel_freq = np.cumsum(rel_freq)\n",
    "print(cum_rel_freq)\n",
    "import matplotlib.pyplot as plt\n",
    "plt.plot(cum_rel_freq)\n",
    "plt.show()"
   ]
  },
  {
   "cell_type": "code",
   "execution_count": 237,
   "id": "8886ff9d",
   "metadata": {},
   "outputs": [
    {
     "name": "stdout",
     "output_type": "stream",
     "text": [
      "        class value  frequency  relative frequency  \\\n",
      "class                                                \n",
      "0~4               2          0                0.00   \n",
      "4~8               6          0                0.00   \n",
      "8~12             10          0                0.00   \n",
      "12~16            14          0                0.00   \n",
      "16~20            18          0                0.00   \n",
      "20~24            22          0                0.00   \n",
      "24~28            26          0                0.00   \n",
      "28~32            30          0                0.00   \n",
      "32~36            34          0                0.00   \n",
      "36~40            38          2                0.04   \n",
      "40~44            42          3                0.06   \n",
      "44~48            46          3                0.06   \n",
      "48~52            50          3                0.06   \n",
      "52~56            54          7                0.14   \n",
      "56~60            58          8                0.16   \n",
      "60~64            62          6                0.12   \n",
      "64~68            66         10                0.20   \n",
      "68~72            70          5                0.10   \n",
      "72~76            74          2                0.04   \n",
      "76~80            78          1                0.02   \n",
      "80~84            82          0                0.00   \n",
      "84~88            86          0                0.00   \n",
      "88~92            90          0                0.00   \n",
      "92~96            94          0                0.00   \n",
      "96~100           98          0                0.00   \n",
      "\n",
      "        cumulative relative frequency  \n",
      "class                                  \n",
      "0~4                              0.00  \n",
      "4~8                              0.00  \n",
      "8~12                             0.00  \n",
      "12~16                            0.00  \n",
      "16~20                            0.00  \n",
      "20~24                            0.00  \n",
      "24~28                            0.00  \n",
      "28~32                            0.00  \n",
      "32~36                            0.00  \n",
      "36~40                            0.04  \n",
      "40~44                            0.10  \n",
      "44~48                            0.16  \n",
      "48~52                            0.22  \n",
      "52~56                            0.36  \n",
      "56~60                            0.52  \n",
      "60~64                            0.64  \n",
      "64~68                            0.84  \n",
      "68~72                            0.94  \n",
      "72~76                            0.98  \n",
      "76~80                            1.00  \n",
      "80~84                            1.00  \n",
      "84~88                            1.00  \n",
      "88~92                            1.00  \n",
      "92~96                            1.00  \n",
      "96~100                           1.00  \n"
     ]
    }
   ],
   "source": [
    "freq_dist_df[\"class value\"] = class_value\n",
    "freq_dist_df[\"relative frequency\"] = rel_freq\n",
    "freq_dist_df[\"cumulative relative frequency\"] = cum_rel_freq\n",
    "freq_dist_df = freq_dist_df[[\"class value\", \"frequency\", \"relative frequency\", \"cumulative relative frequency\"]]\n",
    "print(freq_dist_df)"
   ]
  },
  {
   "cell_type": "code",
   "execution_count": 238,
   "id": "fd9962d3",
   "metadata": {},
   "outputs": [
    {
     "name": "stdout",
     "output_type": "stream",
     "text": [
      "66\n"
     ]
    }
   ],
   "source": [
    "mode = freq_dist_df.loc[freq_dist_df[\"frequency\"].idxmax(), \"class value\"]\n",
    "print(mode)"
   ]
  },
  {
   "cell_type": "markdown",
   "id": "66f5db02",
   "metadata": {},
   "source": [
    "## 도수분포도 시각화"
   ]
  },
  {
   "cell_type": "markdown",
   "id": "489d61c2",
   "metadata": {},
   "source": [
    "### 도수 및 누적상대도수 그래프"
   ]
  },
  {
   "cell_type": "code",
   "execution_count": 239,
   "id": "6e510b6a",
   "metadata": {},
   "outputs": [
    {
     "data": {
      "image/png": "[encoded data removed]",
      "text/plain": [
       "<Figure size 1000x600 with 2 Axes>"
      ]
     },
     "metadata": {},
     "output_type": "display_data"
    }
   ],
   "source": [
    "fig = plt.figure(figsize=(10,6))\n",
    "ax1 = fig.add_subplot(111)\n",
    "ax2 = ax1.twinx()\n",
    "\n",
    "weights = np.ones_like(english_scores)/len(english_scores)\n",
    "freq,_,_ = ax1.hist(english_scores, bins=bins, range=(0,100), weights=weights)\n",
    "cum_rel_freq = np.cumsum(rel_freq)\n",
    "class_value = [(i+i+width)//2 for i in range(0,100,width)]\n",
    "\n",
    "ax2.plot(class_value, cum_rel_freq, ls=\"--\", marker=\"o\", color=\"gray\")\n",
    "ax2.grid(visible=False)\n",
    "\n",
    "ax1.set_xlabel(\"score\")\n",
    "ax1.set_ylabel(\"relative frequency\")\n",
    "ax2.set_ylabel(\"cumulative relative frequency\")\n",
    "ax1.set_xticks(np.linspace(0,100,bins+1))\n",
    "# ax1.set_yticks(np.arange(0,freq.max()+1))\n",
    "plt.show()"
   ]
  },
  {
   "cell_type": "markdown",
   "id": "ca2e9d76",
   "metadata": {},
   "source": [
    "### 사분위 범위 그래프"
   ]
  },
  {
   "cell_type": "code",
   "execution_count": 242,
   "id": "2bd5096d",
   "metadata": {},
   "outputs": [
    {
     "name": "stderr",
     "output_type": "stream",
     "text": [
      "/tmp/ipykernel_11590/3475389108.py:3: MatplotlibDeprecationWarning: The 'labels' parameter of boxplot() has been renamed 'tick_labels' since Matplotlib 3.9; support for the old name will be dropped in 3.11.\n",
      "  ax.boxplot(english_scores, labels=[\"english\"])\n"
     ]
    },
    {
     "data": {
      "image/png": "[encoded data removed]",
      "text/plain": [
       "<Figure size 500x600 with 1 Axes>"
      ]
     },
     "metadata": {},
     "output_type": "display_data"
    }
   ],
   "source": [
    "fig = plt.figure(figsize=(5,6))\n",
    "ax = fig.add_subplot(111)\n",
    "ax.boxplot(english_scores, labels=[\"english\"])\n",
    "plt.show()"
   ]
  },
  {
   "cell_type": "markdown",
   "id": "d6ac6aa8",
   "metadata": {},
   "source": [
    "### subplot 실습"
   ]
  },
  {
   "cell_type": "code",
   "execution_count": null,
   "id": "91ddaa4b",
   "metadata": {},
   "outputs": [
    {
     "data": {
      "image/png": "[encoded data removed]",
      "text/plain": [
       "<Figure size 640x480 with 2 Axes>"
      ]
     },
     "metadata": {},
     "output_type": "display_data"
    }
   ],
   "source": [
    "fig = plt.figure()\n",
    "ax1 = fig.add_subplot(2,1,1)\n",
    "ax2 = fig.add_subplot(2,1,2)\n",
    "\n",
    "x = range(100)\n",
    "y = [v*v for v in x]\n",
    "\n",
    "ax1.plot(x,y)\n",
    "ax2.bar(x,y)\n",
    "plt.show()"
   ]
  }
 ],
 "metadata": {
  "kernelspec": {
   "display_name": "Python 3",
   "language": "python",
   "name": "python3"
  },
  "language_info": {
   "codemirror_mode": {
    "name": "ipython",
    "version": 3
   },
   "file_extension": ".py",
   "mimetype": "text/x-python",
   "name": "python",
   "nbconvert_exporter": "python",
   "pygments_lexer": "ipython3",
   "version": "3.12.12"
  }
 },
 "nbformat": 4,
 "nbformat_minor": 5
}
